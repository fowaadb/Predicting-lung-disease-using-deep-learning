{
  "nbformat": 4,
  "nbformat_minor": 0,
  "metadata": {
    "colab": {
      "name": "Predicting lung disease using deep learning.ipynb",
      "provenance": [],
      "collapsed_sections": []
    },
    "kernelspec": {
      "name": "python3",
      "display_name": "Python 3"
    },
    "accelerator": "GPU"
  },
  "cells": [
    {
      "cell_type": "markdown",
      "metadata": {
        "id": "UZ0FO6OyVHUg"
      },
      "source": [
        "#Transfer Learning VGG 16 and VGG 19 using Keras\n",
        "\n",
        "Notebook is based on tutorial in link(https://www.youtube.com/watch?v=UXIrhWS0mD8)\n",
        "\n",
        "\n",
        "\n"
      ]
    },
    {
      "cell_type": "code",
      "metadata": {
        "id": "o6Hu09ezeOIa",
        "colab": {
          "base_uri": "https://localhost:8080/"
        },
        "outputId": "217b5ae4-9cd8-4931-a581-d84ab8553782"
      },
      "source": [
        "from google.colab import drive\n",
        "drive.mount('/content/gdrive')"
      ],
      "execution_count": 12,
      "outputs": [
        {
          "output_type": "stream",
          "text": [
            "Drive already mounted at /content/gdrive; to attempt to forcibly remount, call drive.mount(\"/content/gdrive\", force_remount=True).\n"
          ],
          "name": "stdout"
        }
      ]
    },
    {
      "cell_type": "code",
      "metadata": {
        "id": "RYlc1VyFeWrB"
      },
      "source": [
        "import os\n",
        "os.environ['KAGGLE_CONFIG_DIR']='/content/gdrive/My Drive/kaggle_dataset'"
      ],
      "execution_count": 13,
      "outputs": []
    },
    {
      "cell_type": "code",
      "metadata": {
        "id": "dGfWaFICes2a",
        "colab": {
          "base_uri": "https://localhost:8080/"
        },
        "outputId": "a4e7e832-50cb-4ff7-9195-52298c3fd4f5"
      },
      "source": [
        "%cd /content/gdrive/My Drive/kaggle_dataset"
      ],
      "execution_count": 14,
      "outputs": [
        {
          "output_type": "stream",
          "text": [
            "/content/gdrive/My Drive/kaggle_dataset\n"
          ],
          "name": "stdout"
        }
      ]
    },
    {
      "cell_type": "code",
      "metadata": {
        "id": "dhsiY9axew7A",
        "colab": {
          "base_uri": "https://localhost:8080/"
        },
        "outputId": "d98843d7-57d4-4e8c-89d6-852e8b036263"
      },
      "source": [
        "!ls"
      ],
      "execution_count": 15,
      "outputs": [
        {
          "output_type": "stream",
          "text": [
            "chest-xray-pneumonia  kaggle.json\n"
          ],
          "name": "stdout"
        }
      ]
    },
    {
      "cell_type": "code",
      "metadata": {
        "id": "IwMPA44Ie1I5",
        "colab": {
          "base_uri": "https://localhost:8080/"
        },
        "outputId": "82d77f16-de7d-423d-f4eb-dcdb9c0c2b72"
      },
      "source": [
        "!kaggle datasets download -d paultimothymooney/chest-xray-pneumonia"
      ],
      "execution_count": 16,
      "outputs": [
        {
          "output_type": "stream",
          "text": [
            "Downloading chest-xray-pneumonia.zip to /content/gdrive/My Drive/kaggle_dataset\n",
            "100% 2.29G/2.29G [00:31<00:00, 22.2MB/s]\n",
            "100% 2.29G/2.29G [00:32<00:00, 76.9MB/s]\n"
          ],
          "name": "stdout"
        }
      ]
    },
    {
      "cell_type": "code",
      "metadata": {
        "id": "usAw6awwe9ww",
        "colab": {
          "base_uri": "https://localhost:8080/"
        },
        "outputId": "0415b94b-6436-4ee5-b3af-fd7a76abadfa"
      },
      "source": [
        "!mkdir chest-xray-pneumonia\n",
        "!mv chest-xray-pneumonia.zip chest-xray-pneumonia"
      ],
      "execution_count": 17,
      "outputs": [
        {
          "output_type": "stream",
          "text": [
            "mkdir: cannot create directory ‘chest-xray-pneumonia’: File exists\n"
          ],
          "name": "stdout"
        }
      ]
    },
    {
      "cell_type": "code",
      "metadata": {
        "id": "GeZp44aIfMxx",
        "colab": {
          "base_uri": "https://localhost:8080/"
        },
        "outputId": "3b1a97da-2fff-40ff-ccc0-b93c259d8339"
      },
      "source": [
        "%cd chest-xray-pneumonia/"
      ],
      "execution_count": 18,
      "outputs": [
        {
          "output_type": "stream",
          "text": [
            "/content/gdrive/My Drive/kaggle_dataset/chest-xray-pneumonia\n"
          ],
          "name": "stdout"
        }
      ]
    },
    {
      "cell_type": "code",
      "metadata": {
        "id": "fERou2FZfSCQ",
        "colab": {
          "base_uri": "https://localhost:8080/"
        },
        "outputId": "a33ffe71-a11e-49b2-c7f5-7d069d053c18"
      },
      "source": [
        "!unzip chest-xray-pneumonia.zip"
      ],
      "execution_count": 19,
      "outputs": [
        {
          "output_type": "stream",
          "text": [
            "Archive:  chest-xray-pneumonia.zip\n",
            "replace chest_xray/__MACOSX/._chest_xray? [y]es, [n]o, [A]ll, [N]one, [r]ename: N\n",
            "A\n"
          ],
          "name": "stdout"
        }
      ]
    },
    {
      "cell_type": "markdown",
      "metadata": {
        "id": "hWGINihjVlDA"
      },
      "source": [
        "#Importing libraries"
      ]
    },
    {
      "cell_type": "code",
      "metadata": {
        "id": "-jh1d9KhfVMo"
      },
      "source": [
        "from keras.layers import Input, Lambda, Dense, Flatten\n",
        "from keras.models import Model\n",
        "from keras.applications.vgg16 import VGG16\n",
        "from keras.applications.vgg16 import preprocess_input\n",
        "from keras.preprocessing import image\n",
        "from keras.preprocessing.image import ImageDataGenerator\n",
        "from keras.models import Sequential\n",
        "import numpy as np\n",
        "from glob import glob\n",
        "import matplotlib.pyplot as plt"
      ],
      "execution_count": 23,
      "outputs": []
    },
    {
      "cell_type": "code",
      "metadata": {
        "id": "6R9veVUcWZrm"
      },
      "source": [
        "#resizing all images\n",
        "IMAGE_SIZE = [224,224]\n",
        "\n",
        "train_path = '/content/gdrive/MyDrive/kaggle_dataset/chest-xray-pneumonia/chest_xray/train'\n",
        "valid_path = '/content/gdrive/MyDrive/kaggle_dataset/chest-xray-pneumonia/chest_xray/val'"
      ],
      "execution_count": 24,
      "outputs": []
    },
    {
      "cell_type": "code",
      "metadata": {
        "colab": {
          "base_uri": "https://localhost:8080/"
        },
        "id": "W7rB6qnPXEtw",
        "outputId": "1a8261af-416d-40d2-dd29-0956a0d3cf8e"
      },
      "source": [
        "#Importing the Vgg 16 library. Adding a preprocessing layer before VGG. [3] is added to IMAGE_SIZE ie 224,224 inorder to convert it into a with 3 representing the RGB colors\n",
        "\n",
        "vgg = VGG16(input_shape=IMAGE_SIZE + [3], weights = 'imagenet', include_top = False) #include top is false as imagenets top was trained to give 1000 categories whereas we only want 2 outputs, so we discard the head."
      ],
      "execution_count": 32,
      "outputs": [
        {
          "output_type": "stream",
          "text": [
            "Downloading data from https://storage.googleapis.com/tensorflow/keras-applications/vgg16/vgg16_weights_tf_dim_ordering_tf_kernels_notop.h5\n",
            "58892288/58889256 [==============================] - 1s 0us/step\n",
            "58900480/58889256 [==============================] - 1s 0us/step\n"
          ],
          "name": "stdout"
        }
      ]
    },
    {
      "cell_type": "code",
      "metadata": {
        "id": "QjGbqOhlx47s"
      },
      "source": [
        "# skip training the existing weights\n",
        "\n",
        "for layer in vgg.layers:\n",
        "  layer.trainable = False"
      ],
      "execution_count": 33,
      "outputs": []
    },
    {
      "cell_type": "code",
      "metadata": {
        "id": "CXsXEzcXyfFQ"
      },
      "source": [
        "#securing number of output classes based on number of folders in training folder\n",
        "folders = glob('/content/gdrive/MyDrive/kaggle_dataset/chest-xray-pneumonia/chest_xray/train/*')"
      ],
      "execution_count": 34,
      "outputs": []
    },
    {
      "cell_type": "code",
      "metadata": {
        "id": "PSku3VMMzmmp"
      },
      "source": [
        "# layers\n",
        "x = Flatten()(vgg.output)"
      ],
      "execution_count": 35,
      "outputs": []
    },
    {
      "cell_type": "code",
      "metadata": {
        "id": "xIGy5l02z3jI"
      },
      "source": [
        "prediction = Dense(len(folders), activation='softmax')(x)\n",
        "\n",
        "#create a model object\n",
        "model = Model(inputs=vgg.input,outputs=prediction)"
      ],
      "execution_count": 36,
      "outputs": []
    },
    {
      "cell_type": "code",
      "metadata": {
        "colab": {
          "base_uri": "https://localhost:8080/"
        },
        "id": "7ILcRqZG0L4H",
        "outputId": "40ef4c06-2139-44d4-ad4d-f10a695f8677"
      },
      "source": [
        "model.summary"
      ],
      "execution_count": 37,
      "outputs": [
        {
          "output_type": "execute_result",
          "data": {
            "text/plain": [
              "<bound method Model.summary of <keras.engine.functional.Functional object at 0x7fd0506a4d90>>"
            ]
          },
          "metadata": {
            "tags": []
          },
          "execution_count": 37
        }
      ]
    },
    {
      "cell_type": "code",
      "metadata": {
        "id": "-ja1Hz__0NVE"
      },
      "source": [
        "#specifying cost and optimization method\n",
        "model.compile(\n",
        "    loss='categorical_crossentropy',\n",
        "    optimizer='adam',\n",
        "    metrics=['accuracy']\n",
        ")"
      ],
      "execution_count": 38,
      "outputs": []
    },
    {
      "cell_type": "code",
      "metadata": {
        "id": "fI8Qp5Xh0lnG"
      },
      "source": [
        "# import Image Data Generator to import images from the dataset\n",
        "from keras.preprocessing.image import ImageDataGenerator\n",
        "\n",
        "train_datagen = ImageDataGenerator(rescale = 1./255,\n",
        "                                   shear_range=0.2,\n",
        "                                   zoom_range = 0.2,\n",
        "                                   horizontal_flip = True)\n",
        "\n",
        "test_datagen = ImageDataGenerator(rescale = 1./255) #as we do not train the test set, there is no need to produce additional images in the form of augmentations as in test images"
      ],
      "execution_count": 45,
      "outputs": []
    },
    {
      "cell_type": "code",
      "metadata": {
        "colab": {
          "base_uri": "https://localhost:8080/"
        },
        "id": "mcdteJoY1uku",
        "outputId": "dd01731a-1b63-47cc-e627-a1e5d783de80"
      },
      "source": [
        "#target size must be the same as image size that was initailized\n",
        "\n",
        "training_set = train_datagen.flow_from_directory('/content/gdrive/MyDrive/kaggle_dataset/chest-xray-pneumonia/chest_xray/train',\n",
        "                                                 target_size = (224,224),\n",
        "                                                 batch_size = 32,\n",
        "                                                 class_mode = 'categorical')"
      ],
      "execution_count": 46,
      "outputs": [
        {
          "output_type": "stream",
          "text": [
            "Found 5216 images belonging to 2 classes.\n"
          ],
          "name": "stdout"
        }
      ]
    },
    {
      "cell_type": "code",
      "metadata": {
        "colab": {
          "base_uri": "https://localhost:8080/"
        },
        "id": "EmZW0Q8u3FYp",
        "outputId": "8b0d549f-89c8-4a44-aeeb-019e2a3c9b96"
      },
      "source": [
        "test_set = test_datagen.flow_from_directory('/content/gdrive/MyDrive/kaggle_dataset/chest-xray-pneumonia/chest_xray/test',\n",
        "                                            target_size = (224,224),\n",
        "                                            batch_size = 32,\n",
        "                                            class_mode = 'categorical')"
      ],
      "execution_count": 47,
      "outputs": [
        {
          "output_type": "stream",
          "text": [
            "Found 624 images belonging to 2 classes.\n"
          ],
          "name": "stdout"
        }
      ]
    },
    {
      "cell_type": "code",
      "metadata": {
        "colab": {
          "base_uri": "https://localhost:8080/"
        },
        "id": "EQzqXOVt3fcX",
        "outputId": "a6ff809e-5187-431f-8184-d38b79b90b94"
      },
      "source": [
        "r = model.fit_generator(\n",
        "    training_set,\n",
        "    validation_data=test_set,\n",
        "    epochs=5,\n",
        "    steps_per_epoch=len(training_set),\n",
        "    validation_steps=len(test_set)\n",
        ")"
      ],
      "execution_count": 48,
      "outputs": [
        {
          "output_type": "stream",
          "text": [
            "/usr/local/lib/python3.7/dist-packages/keras/engine/training.py:1915: UserWarning: `Model.fit_generator` is deprecated and will be removed in a future version. Please use `Model.fit`, which supports generators.\n",
            "  warnings.warn('`Model.fit_generator` is deprecated and '\n"
          ],
          "name": "stderr"
        },
        {
          "output_type": "stream",
          "text": [
            "Epoch 1/5\n",
            "163/163 [==============================] - 1972s 12s/step - loss: 0.2562 - accuracy: 0.9116 - val_loss: 0.4765 - val_accuracy: 0.8317\n",
            "Epoch 2/5\n",
            "163/163 [==============================] - 118s 724ms/step - loss: 0.1155 - accuracy: 0.9565 - val_loss: 0.2761 - val_accuracy: 0.9215\n",
            "Epoch 3/5\n",
            "163/163 [==============================] - 115s 708ms/step - loss: 0.0987 - accuracy: 0.9638 - val_loss: 0.5259 - val_accuracy: 0.8622\n",
            "Epoch 4/5\n",
            "163/163 [==============================] - 116s 713ms/step - loss: 0.0878 - accuracy: 0.9672 - val_loss: 0.2570 - val_accuracy: 0.9183\n",
            "Epoch 5/5\n",
            "163/163 [==============================] - 116s 714ms/step - loss: 0.0699 - accuracy: 0.9716 - val_loss: 0.2328 - val_accuracy: 0.9199\n"
          ],
          "name": "stdout"
        }
      ]
    },
    {
      "cell_type": "code",
      "metadata": {
        "colab": {
          "base_uri": "https://localhost:8080/",
          "height": 282
        },
        "id": "UnBMRAjM39AE",
        "outputId": "3b863c04-ba4c-4eb2-d118-ba5f15e1c4f5"
      },
      "source": [
        "#plotting the loss\n",
        "plt.plot(r.history['loss'], label='train loss')\n",
        "plt.plot(r.history['val_loss'], label='val_loss')\n",
        "plt.legend()\n",
        "plt.show()\n",
        "plt.savefig('lossVal_loss')\n",
        "\n"
      ],
      "execution_count": 54,
      "outputs": [
        {
          "output_type": "display_data",
          "data": {
            "image/png": "[encoded data removed]",
            "text/plain": [
              "<Figure size 432x288 with 1 Axes>"
            ]
          },
          "metadata": {
            "tags": [],
            "needs_background": "light"
          }
        },
        {
          "output_type": "display_data",
          "data": {
            "text/plain": [
              "<Figure size 432x288 with 0 Axes>"
            ]
          },
          "metadata": {
            "tags": []
          }
        }
      ]
    },
    {
      "cell_type": "code",
      "metadata": {
        "id": "bxDTuR6a4kZH"
      },
      "source": [
        "#save the model as h5 file\n",
        "import tensorflow as tf\n",
        "from keras.models import load_model\n",
        "\n",
        "model.save('model_vgg16.h5')"
      ],
      "execution_count": 53,
      "outputs": []
    },
    {
      "cell_type": "code",
      "metadata": {
        "id": "jLl0rtxQ4nFf"
      },
      "source": [
        ""
      ],
      "execution_count": null,
      "outputs": []
    }
  ]
}